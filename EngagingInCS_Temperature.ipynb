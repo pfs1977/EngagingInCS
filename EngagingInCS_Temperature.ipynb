{
  "nbformat": 4,
  "nbformat_minor": 0,
  "metadata": {
    "colab": {
      "provenance": [],
      "authorship_tag": "ABX9TyOzSHZblDVSm59aPQLaWTwp",
      "include_colab_link": true
    },
    "kernelspec": {
      "name": "python3",
      "display_name": "Python 3"
    },
    "language_info": {
      "name": "python"
    }
  },
  "cells": [
    {
      "cell_type": "markdown",
      "metadata": {
        "id": "view-in-github",
        "colab_type": "text"
      },
      "source": [
        "<a href=\"https://colab.research.google.com/github/pfs1977/EngagingInCS/blob/main/EngagingInCS_Temperature.ipynb\" target=\"_parent\"><img src=\"https://colab.research.google.com/assets/colab-badge.svg\" alt=\"Open In Colab\"/></a>"
      ]
    },
    {
      "cell_type": "markdown",
      "source": [
        "# Motivação ambiental"
      ],
      "metadata": {
        "id": "KhXAOAEMmIOM"
      }
    },
    {
      "cell_type": "markdown",
      "source": [
        "\n",
        "* A temperatura da água à superfície do oceano é um atributo físico importante dos oceanos. À medida que os oceanos absorvem mais calor, a temperatura da superfície do mar aumenta e os padrões de circulação oceânica que transportam água quente e fria à volta do globo alteram-se.\n",
        "\n",
        "* As mudanças na temperatura da superfície do mar podem alterar os ecossistemas marinhos de várias formas, alterarndo padrões de migração e reprodução, assim como ameaçando a vida oceânica sensível.\n",
        "\n",
        "* Como os oceanos interagem continuamente com a atmosfera, a temperatura da superfície do mar também pode ter efeitos profundos no clima global, aumentando o risco de chuva intensa e neve, alterando as trajectórias das tempestades, prolongando a época de crescimento de certas bactérias com risco para a nossa saúde.\n",
        "\n",
        "* Podes aprender mais sobre este assuno no seguinte link: https://www.epa.gov/climate-indicators/climate-change-indicators-sea-surface-temperature\n"
      ],
      "metadata": {
        "id": "C48IH4eYU1a5"
      }
    },
    {
      "cell_type": "markdown",
      "source": [
        "# Motivação técnica"
      ],
      "metadata": {
        "id": "opL1HKUmUr6Z"
      }
    },
    {
      "cell_type": "markdown",
      "source": [
        "* Para se mitigar as alterações climáticas é necessário compreender os fenómenos que as influenciam e ser capaz de prever como é que estes evoluem no futuro para assim conseguirmos criar políticas adequadas.\n",
        "* O estudo dos fenómenos passa muito pela análise de vastas quantidades de dados** numéricos e da criação de modelos que possamos usar para prever dados quando estes não existem, por exemplo relativamente ao futuro. Realizar essa análise e síntese de modelos de forma manual é impraticável.\n",
        "* Os computadores têm a capacidade de realizar essas tarefas de forma rápida e sem erros. A essa área da **Informática** chamamos **Ciência dos Dados**. Contudo, os computadores requerem que lhe seja explicado como fazer essa análise.\n",
        "* Programar não é mais do que comunicar procedimentos para o computador realizar. Aprender a programar é uma combinação de aprender uma nova língua e formalisar raciocínio lógico.\n",
        "* Estas características da programação tornam-na muito aliciante para quem gosta de matemática e de resolver problemas.\n",
        "* Programar requer muita atenção ao detalhe, pois o computador requer que o que lhe comuniquemos esteja exento de erros sintáticos (semelhante ao conceito de erro ortográfico) e de erros semânticos (semelhante ao conceito de erro gramatical).\n",
        "* Os computadores têm a capacidade de indicar ao programador praticamente em tempo-real problemas no código que o programador está a desenvolver. Este feedback muito imediato torna a tarefa da progrmação envolvente, semelhante ao que sentimos quando jogamos um vídeo jogo.\n",
        "* De seguida vamos abordar o problema da previsão da temperatura do oceano através da linguagem de programação mais utilizada no momento atual, o Python.\n",
        "* Grande parte do código está já preparado, tendo apenas que o executar e observar os resultados. Contudo, para ser mais interessante, também terás de preencher algumas zonas do código, indicadas com **[...]**.\n",
        "* Esperamos que te **divirtas** e que consigas sentir o quão **fascinante** e **impactante** é a **Engenharia Informática**!\n",
        "🙂\n"
      ],
      "metadata": {
        "id": "WPumXJaMQqq4"
      }
    },
    {
      "cell_type": "markdown",
      "source": [
        "#Preparação do ambiente de programação"
      ],
      "metadata": {
        "id": "3VWg7fEXCosO"
      }
    },
    {
      "cell_type": "markdown",
      "source": [
        "Apenas carrega em play e aguarda um pouco."
      ],
      "metadata": {
        "id": "9FdvVtu7U63G"
      }
    },
    {
      "cell_type": "code",
      "source": [
        "!rm -r EngagingInCS/\n",
        "!git clone https://github.com/pfs1977/EngagingInCS.git\n",
        "import sys\n",
        "sys.path.append('/content/EngagingInCS/')"
      ],
      "metadata": {
        "colab": {
          "base_uri": "https://localhost:8080/"
        },
        "id": "-5u4NssxEYpw",
        "outputId": "8a2c6f93-a5c7-481c-db0c-d9a21c86586f",
        "collapsed": true
      },
      "execution_count": 1,
      "outputs": [
        {
          "output_type": "stream",
          "name": "stdout",
          "text": [
            "Cloning into 'EngagingInCS'...\n",
            "remote: Enumerating objects: 65, done.\u001b[K\n",
            "remote: Counting objects: 100% (65/65), done.\u001b[K\n",
            "remote: Compressing objects: 100% (64/64), done.\u001b[K\n",
            "remote: Total 65 (delta 38), reused 0 (delta 0), pack-reused 0\u001b[K\n",
            "Receiving objects: 100% (65/65), 22.56 KiB | 2.51 MiB/s, done.\n",
            "Resolving deltas: 100% (38/38), done.\n"
          ]
        }
      ]
    },
    {
      "cell_type": "markdown",
      "source": [
        "# Análise do data set"
      ],
      "metadata": {
        "id": "zTIG56RqQrgQ"
      }
    },
    {
      "cell_type": "markdown",
      "source": [
        "* Fomos descarregar um data set com as temperaturas dos oceanos neste site:\n",
        "https://www.epa.gov/climate-indicators/climate-change-indicators-sea-surface-temperature\n",
        "\n",
        "* Os dados são apresentados como diferenças em comparação com a temperatura média da superfície do mar global entre 1971 e 2000. Os dados cobrem o período compreendido entre 1880 e 2020.\n",
        "\n",
        "* Os dados estão armazenados num ficheiro csv (comma separated values). A primeira linha do ficheiro contém um cabeçalho com o nome das várias colunas de dados, todas separadas com ponto e vírgula.\n",
        "\n",
        "* Atenção que os valores estão em grays Fahrenheit. Uma diferença de 1 grau Fahrenheit equivale a aproximadamente 0,5556 graus Celsius.\n",
        "\n",
        "Vamos usar o camando **head** para observarmos as primeiras 5 linhas do ficheiro. (podes alterar no comando o valor numérico após **n** para veres mais linhas):"
      ],
      "metadata": {
        "id": "yW80lxq3RQko"
      }
    },
    {
      "cell_type": "code",
      "source": [
        "!head -n 5 EngagingInCS/sea-surface-temp-historic-data.csv"
      ],
      "metadata": {
        "colab": {
          "base_uri": "https://localhost:8080/"
        },
        "id": "otaIVA9vIzNM",
        "outputId": "0af926e0-ac8f-46db-aca2-b95d7a38afff"
      },
      "execution_count": 3,
      "outputs": [
        {
          "output_type": "stream",
          "name": "stdout",
          "text": [
            "Year,Annual anomaly,Lower 95% confidence interval,Upper 95% confidence interval\r\n",
            "1880,-0.42,-0.628152,-0.211848\r\n",
            "1881,-0.33,-0.531096,-0.128904\r\n",
            "1882,-0.348,-0.545568,-0.150432\r\n",
            "1883,-0.456,-0.65004,-0.26196\r\n"
          ]
        }
      ]
    },
    {
      "cell_type": "markdown",
      "source": [
        "Vamos agora usar o comando **tail** para observar as últimas 5 linhas do ficheiro (podes alterar no comando o valor numérico após **n** para veres mais linhas):"
      ],
      "metadata": {
        "id": "8kbWz6e9RWZm"
      }
    },
    {
      "cell_type": "code",
      "source": [
        "!tail -n [...] EngagingInCS/[...].csv"
      ],
      "metadata": {
        "colab": {
          "base_uri": "https://localhost:8080/"
        },
        "id": "U_XTnpgBo5UI",
        "outputId": "bb431a52-e7b4-42fc-bc53-dcef82a090ed"
      },
      "execution_count": 4,
      "outputs": [
        {
          "output_type": "stream",
          "name": "stdout",
          "text": [
            "tail: invalid number of lines: ‘[...]’\n"
          ]
        }
      ]
    },
    {
      "cell_type": "code",
      "source": [
        "!tail -n 5 EngagingInCS/sea-surface-temp-historic-data.csv"
      ],
      "metadata": {
        "colab": {
          "base_uri": "https://localhost:8080/"
        },
        "id": "yzu58W9-QghJ",
        "outputId": "d7936341-debe-4941-8b9f-cf0e285b49bf",
        "collapsed": true
      },
      "execution_count": 5,
      "outputs": [
        {
          "output_type": "stream",
          "name": "stdout",
          "text": [
            "2016,0.93,0.891192,0.968808\r\n",
            "2017,0.822,0.779664,0.864336\r\n",
            "2018,0.732,0.686136,0.777864\n",
            "2019,0.876,0.819552,0.932448\n",
            "2020,0.84,0.797664,0.882336"
          ]
        }
      ]
    },
    {
      "cell_type": "markdown",
      "source": [
        "# Importação de biblioteca"
      ],
      "metadata": {
        "id": "O6MXEfonQvsZ"
      }
    },
    {
      "cell_type": "markdown",
      "source": [
        "* Programar envolve integrar vários níveis de abstração. Existem aspetos de detalhe, que chamamos de baixo nível, que por vezes são resolvidos por bibliotecas de software já existentes no sistema.\n",
        "\n",
        "* Programar é uma atividade em equipa. Nessas equipas as pessoas ficam com diferentes responsabilidades. Por exemplo, um programador desenvolve as tais bibliotecas de baixo nível, enquanto que outros as usam para resolver tarefas de maior abstração.\n",
        "\n",
        "* Neste caso nós preparámos uma bibliotica para vocês usarem, que está armazenada no ficheiro Python \"utils.py\".\n",
        "\n",
        "* Vamos então começar por importar para o nosso projeto as várias funcionalidades de baixo nível desse ficheiro."
      ],
      "metadata": {
        "id": "k0-jmSJYRlCl"
      }
    },
    {
      "cell_type": "code",
      "source": [
        "import utils"
      ],
      "metadata": {
        "id": "e4f3_H62RkN6"
      },
      "execution_count": 2,
      "outputs": []
    },
    {
      "cell_type": "markdown",
      "source": [
        "Se tiveres curiosidade pode executar o comando **cat** para veres o conteúdo desse ficheiro. Não te assustes com o conteúdo. Apenas parece complicado porque é uma língua que ainda não conheces. Como qualquer outra língua, é apenas uma questão de prática para a aprenderes."
      ],
      "metadata": {
        "id": "pCQIylAQR9Zs"
      }
    },
    {
      "cell_type": "code",
      "source": [
        "!cat EngagingInCS/utils.py"
      ],
      "metadata": {
        "colab": {
          "base_uri": "https://localhost:8080/"
        },
        "id": "tNoFiELAR06g",
        "outputId": "d4409696-4f03-46b7-e08a-db0579562da5",
        "collapsed": true
      },
      "execution_count": 7,
      "outputs": [
        {
          "output_type": "stream",
          "name": "stdout",
          "text": [
            "from functools import partial\n",
            "import matplotlib.pyplot as plt\n",
            "import numpy\n",
            "import pandas\n",
            "\n",
            "canvas = None\n",
            "canvas_aux = None\n",
            "\n",
            "\n",
            "def create_partial_function(handler, **kwargs):\n",
            "    return partial(handler, **kwargs)\n",
            "\n",
            "\n",
            "def react_to_keys(years_vector, temperatures_vector,\n",
            "                  a3, a2, a1, a0,\n",
            "                  year_min, year_mid, year_max,\n",
            "                  callback):\n",
            "    partial_on_key_pressed = create_partial_function(callback,\n",
            "                                                     years_vector=years_vector,\n",
            "                                                     temperatures_vector=temperatures_vector,\n",
            "                                                     a3=a3, a2=a2, a1=a1, a0=a0,\n",
            "                                                     year_min=year_min, year_mid=year_mid, year_max=year_max)\n",
            "    canvas.canvas.mpl_connect('key_press_event', partial_on_key_pressed)\n",
            "    plt.show()\n",
            "\n",
            "def set_graph(x_label, y_label, x_min, x_max, y_min, y_max):\n",
            "    plt.xlabel(x_label)\n",
            "    plt.ylabel(y_label)\n",
            "    plt.xlim(x_min,x_max)\n",
            "    plt.ylim(y_min,y_max)\n",
            "    \n",
            "def view_curve(x_vector, y_vector, color):\n",
            "    plt.plot(x_vector, y_vector, color=color)\n",
            "\n",
            "def view_scatter(x_vector, y_vector, color):\n",
            "    plt.scatter(x_vector, y_vector, color=color)\n",
            "\n",
            "def create_vector_with_zeroes(size):\n",
            "    return numpy.zeros(size)\n",
            "\n",
            "def create_vector_with_sequence(max):\n",
            "    return numpy.arange(max)\n",
            "\n",
            "def read_columm_from_datafile(datafile_path, column_name):\n",
            "    data_file = pandas.read_csv(datafile_path)\n",
            "    return data_file[column_name].to_numpy(dtype=float)\n",
            "\n",
            "def fit_polynomial(x_vector, y_vector):\n",
            "    [a3, a2, a1, a0] = numpy.polyfit(x_vector, y_vector, 3)\n",
            "    return [a3, a2, a1, a0]\n"
          ]
        }
      ]
    },
    {
      "cell_type": "markdown",
      "source": [
        "# Impressão no ecrã"
      ],
      "metadata": {
        "id": "uvRGwUedmYVy"
      }
    },
    {
      "cell_type": "markdown",
      "source": [
        "Podes imprimir conteúdo no ecrã durante a execução do teu código. Em programação, ao texto chamamos *strings*, sendo que estas são delimitadas por aspas. Experimenta o exemplo seguinte, que invoca a função **print** para imprimir a *string* passada como argumento de entrada."
      ],
      "metadata": {
        "id": "gONNgPTQcm-X"
      }
    },
    {
      "cell_type": "code",
      "source": [
        "print(\"hello world\")"
      ],
      "metadata": {
        "colab": {
          "base_uri": "https://localhost:8080/"
        },
        "id": "SraJddKBk4-7",
        "outputId": "9334fbc1-68a9-4fbb-8e73-178013e0adcf"
      },
      "execution_count": 8,
      "outputs": [
        {
          "output_type": "stream",
          "name": "stdout",
          "text": [
            "hello world\n"
          ]
        }
      ]
    },
    {
      "cell_type": "markdown",
      "source": [
        "Ajusta a seguinte linha de código para dizer olá mundo em português."
      ],
      "metadata": {
        "id": "R-znYZNBpUXy"
      }
    },
    {
      "cell_type": "code",
      "source": [
        "print([...])"
      ],
      "metadata": {
        "colab": {
          "base_uri": "https://localhost:8080/"
        },
        "id": "PqBTlOONpRhP",
        "outputId": "19dae333-24ce-4ed3-b4a4-34eb0e4544c4"
      },
      "execution_count": 9,
      "outputs": [
        {
          "output_type": "stream",
          "name": "stdout",
          "text": [
            "[Ellipsis]\n"
          ]
        }
      ]
    },
    {
      "cell_type": "markdown",
      "source": [
        "Podemos guardar informação em variáveis, tal como na matemática. Para isso utilizamos o operador =, que tem um significado diferente do da matemática. Ele representa atribuição. Por exemplo A = B significa que o conteúdo da variável B é copiado para a variável A, ficando no final ambas com o mesmo valor. Podes pensar no \"=\" como uma seta para a esquerda: \"<-\".Experimenta o seguinte exemplo, que começa por copiar um texto para dentro da variável a, que é depois impressa no ecrã."
      ],
      "metadata": {
        "id": "-PqmV5FudvJe"
      }
    },
    {
      "cell_type": "code",
      "source": [
        "a = \"hello world\"\n",
        "print(a)"
      ],
      "metadata": {
        "colab": {
          "base_uri": "https://localhost:8080/"
        },
        "id": "khip_iq1ktWK",
        "outputId": "fc501124-771a-40b4-d299-671c7576d5eb"
      },
      "execution_count": 10,
      "outputs": [
        {
          "output_type": "stream",
          "name": "stdout",
          "text": [
            "hello world\n"
          ]
        }
      ]
    },
    {
      "cell_type": "markdown",
      "source": [
        "De seguida demonstra-se que as variáveis não armazenam apenas texto, também podem armazenar números naturais e reais."
      ],
      "metadata": {
        "id": "A4tFdKiHejd7"
      }
    },
    {
      "cell_type": "code",
      "source": [
        "a=1234\n",
        "print(a)"
      ],
      "metadata": {
        "colab": {
          "base_uri": "https://localhost:8080/"
        },
        "id": "DNq83YZvk9VP",
        "outputId": "b13bc951-23e0-4ee2-eff0-4fe3258c99db"
      },
      "execution_count": 11,
      "outputs": [
        {
          "output_type": "stream",
          "name": "stdout",
          "text": [
            "1234\n"
          ]
        }
      ]
    },
    {
      "cell_type": "markdown",
      "source": [
        "Podemos juntar textos (concatenar) utilizando o operaor +. Se quisermos juntar um texto com um número, temos primeiro de transformar o número em texto através da função **str**. Essa função recebe um valor que não é uma *string* como argumento de entrada e devolve a sua versão em *string*. No fundo a ideia é que se tiveres *string1* e *string2*, **string1 + string2** resulta numa *string* composta. Experimenta o seguinte exemplo."
      ],
      "metadata": {
        "id": "v81qkYWgexvO"
      }
    },
    {
      "cell_type": "code",
      "source": [
        "print(\"hello world \" + str(a))"
      ],
      "metadata": {
        "colab": {
          "base_uri": "https://localhost:8080/"
        },
        "id": "V-SIoKjwlEaL",
        "outputId": "ada7bcae-f8b6-465e-b0ef-97d4957e0b3d"
      },
      "execution_count": 12,
      "outputs": [
        {
          "output_type": "stream",
          "name": "stdout",
          "text": [
            "hello world 1234\n"
          ]
        }
      ]
    },
    {
      "cell_type": "markdown",
      "source": [
        "Vamos praticar o que acabaram de aprender. Criem uma variável **idade** com a vossa idade e façam aparecer no ecrã \"olá\" seguido do conteúdo dessa variável."
      ],
      "metadata": {
        "id": "vfjnp-LjpwTD"
      }
    },
    {
      "cell_type": "code",
      "source": [
        "idade = [...]\n",
        "print([...] + [...])"
      ],
      "metadata": {
        "colab": {
          "base_uri": "https://localhost:8080/"
        },
        "id": "CM6RF2WBpwzI",
        "outputId": "2c03ad02-44cf-430d-b87e-06bba9976121"
      },
      "execution_count": 13,
      "outputs": [
        {
          "output_type": "stream",
          "name": "stdout",
          "text": [
            "[Ellipsis, Ellipsis]\n"
          ]
        }
      ]
    },
    {
      "cell_type": "markdown",
      "source": [
        "# Carregamento do dataset"
      ],
      "metadata": {
        "id": "hm4lNFVxmjqw"
      }
    },
    {
      "cell_type": "markdown",
      "source": [
        "Vamos usar a função **read_columm_from_datafile** para ler a coluna de dados **Year** do ficheiro csv e armazenar essa coluna sob a forma de vetor em **years_vector**. Este vetor vai então armazenar de forma ordenada todos os anos para os quais há registos no ficheiro. A função **read_columm_from_datafile** recee dois argumentos, o primeiro que indica onde está o ficheiro e o segundo que indica que coluna desse ficheiro pretendemos processar."
      ],
      "metadata": {
        "id": "PKUEsbnJbBWX"
      }
    },
    {
      "cell_type": "code",
      "source": [
        "years_vector = utils.read_columm_from_datafile(\n",
        "    datafile_path=\"EngagingInCS/sea-surface-temp-historic-data.csv\",\n",
        "    column_name=\"Year\")"
      ],
      "metadata": {
        "id": "7MCQd1JeffqD"
      },
      "execution_count": 3,
      "outputs": []
    },
    {
      "cell_type": "markdown",
      "source": [
        "Vamos agora usar a função **print** para imprimir no ecrã o conteúdo do vetor que carregámos do ficheiro."
      ],
      "metadata": {
        "id": "c-A3NMflfQAZ"
      }
    },
    {
      "cell_type": "code",
      "source": [
        "print(years_vector)"
      ],
      "metadata": {
        "colab": {
          "base_uri": "https://localhost:8080/"
        },
        "id": "kA193BLOfoQT",
        "outputId": "a361af46-0f28-4fb9-d300-6bbf5a3fe361"
      },
      "execution_count": 15,
      "outputs": [
        {
          "output_type": "stream",
          "name": "stdout",
          "text": [
            "[1880. 1881. 1882. 1883. 1884. 1885. 1886. 1887. 1888. 1889. 1890. 1891.\n",
            " 1892. 1893. 1894. 1895. 1896. 1897. 1898. 1899. 1900. 1901. 1902. 1903.\n",
            " 1904. 1905. 1906. 1907. 1908. 1909. 1910. 1911. 1912. 1913. 1914. 1915.\n",
            " 1916. 1917. 1918. 1919. 1920. 1921. 1922. 1923. 1924. 1925. 1926. 1927.\n",
            " 1928. 1929. 1930. 1931. 1932. 1933. 1934. 1935. 1936. 1937. 1938. 1939.\n",
            " 1940. 1941. 1942. 1943. 1944. 1945. 1946. 1947. 1948. 1949. 1950. 1951.\n",
            " 1952. 1953. 1954. 1955. 1956. 1957. 1958. 1959. 1960. 1961. 1962. 1963.\n",
            " 1964. 1965. 1966. 1967. 1968. 1969. 1970. 1971. 1972. 1973. 1974. 1975.\n",
            " 1976. 1977. 1978. 1979. 1980. 1981. 1982. 1983. 1984. 1985. 1986. 1987.\n",
            " 1988. 1989. 1990. 1991. 1992. 1993. 1994. 1995. 1996. 1997. 1998. 1999.\n",
            " 2000. 2001. 2002. 2003. 2004. 2005. 2006. 2007. 2008. 2009. 2010. 2011.\n",
            " 2012. 2013. 2014. 2015. 2016. 2017. 2018. 2019. 2020.]\n"
          ]
        }
      ]
    },
    {
      "cell_type": "markdown",
      "source": [
        "Vamos usar novamente a função **read_columm_from_datafile**, mas agora para ler a coluna de dados **Annual anomaly** do ficheiro csv e armazenar essa coluna sob a forma de vetor em **temperatures_vector**. Este vetor vai então armazenar de forma ordenada todos as temperaturas das quais há registo no ficheiro. Desta vez deixámos uma parte para vocês preencherem."
      ],
      "metadata": {
        "id": "RXeeOSdJfbM1"
      }
    },
    {
      "cell_type": "code",
      "source": [
        "temperatures_vector = utils.read_columm_from_datafile(\n",
        "    datafile_path=\"[...]\",\n",
        "    column_name=\"[...]\")"
      ],
      "metadata": {
        "colab": {
          "base_uri": "https://localhost:8080/",
          "height": 316
        },
        "id": "KPL6DTrnqQnd",
        "outputId": "ba5fb559-1ef2-48ae-8005-7a4af6c4f74a"
      },
      "execution_count": 16,
      "outputs": [
        {
          "output_type": "error",
          "ename": "FileNotFoundError",
          "evalue": "[Errno 2] No such file or directory: '[...]'",
          "traceback": [
            "\u001b[0;31m---------------------------------------------------------------------------\u001b[0m",
            "\u001b[0;31mFileNotFoundError\u001b[0m                         Traceback (most recent call last)",
            "\u001b[0;32m<ipython-input-16-726aa667389b>\u001b[0m in \u001b[0;36m<cell line: 1>\u001b[0;34m()\u001b[0m\n\u001b[0;32m----> 1\u001b[0;31m temperatures_vector = utils.read_columm_from_datafile(\n\u001b[0m\u001b[1;32m      2\u001b[0m     \u001b[0mdatafile_path\u001b[0m\u001b[0;34m=\u001b[0m\u001b[0;34m\"[...]\"\u001b[0m\u001b[0;34m,\u001b[0m\u001b[0;34m\u001b[0m\u001b[0;34m\u001b[0m\u001b[0m\n\u001b[1;32m      3\u001b[0m     column_name=\"[...]\")\n",
            "\u001b[0;32m/content/EngagingInCS/utils.py\u001b[0m in \u001b[0;36mread_columm_from_datafile\u001b[0;34m(datafile_path, column_name)\u001b[0m\n\u001b[1;32m     43\u001b[0m \u001b[0;34m\u001b[0m\u001b[0m\n\u001b[1;32m     44\u001b[0m \u001b[0;32mdef\u001b[0m \u001b[0mread_columm_from_datafile\u001b[0m\u001b[0;34m(\u001b[0m\u001b[0mdatafile_path\u001b[0m\u001b[0;34m,\u001b[0m \u001b[0mcolumn_name\u001b[0m\u001b[0;34m)\u001b[0m\u001b[0;34m:\u001b[0m\u001b[0;34m\u001b[0m\u001b[0;34m\u001b[0m\u001b[0m\n\u001b[0;32m---> 45\u001b[0;31m     \u001b[0mdata_file\u001b[0m \u001b[0;34m=\u001b[0m \u001b[0mpandas\u001b[0m\u001b[0;34m.\u001b[0m\u001b[0mread_csv\u001b[0m\u001b[0;34m(\u001b[0m\u001b[0mdatafile_path\u001b[0m\u001b[0;34m)\u001b[0m\u001b[0;34m\u001b[0m\u001b[0;34m\u001b[0m\u001b[0m\n\u001b[0m\u001b[1;32m     46\u001b[0m     \u001b[0;32mreturn\u001b[0m \u001b[0mdata_file\u001b[0m\u001b[0;34m[\u001b[0m\u001b[0mcolumn_name\u001b[0m\u001b[0;34m]\u001b[0m\u001b[0;34m.\u001b[0m\u001b[0mto_numpy\u001b[0m\u001b[0;34m(\u001b[0m\u001b[0mdtype\u001b[0m\u001b[0;34m=\u001b[0m\u001b[0mfloat\u001b[0m\u001b[0;34m)\u001b[0m\u001b[0;34m\u001b[0m\u001b[0;34m\u001b[0m\u001b[0m\n\u001b[1;32m     47\u001b[0m \u001b[0;34m\u001b[0m\u001b[0m\n",
            "\u001b[0;32m/usr/local/lib/python3.10/dist-packages/pandas/io/parsers/readers.py\u001b[0m in \u001b[0;36mread_csv\u001b[0;34m(filepath_or_buffer, sep, delimiter, header, names, index_col, usecols, dtype, engine, converters, true_values, false_values, skipinitialspace, skiprows, skipfooter, nrows, na_values, keep_default_na, na_filter, verbose, skip_blank_lines, parse_dates, infer_datetime_format, keep_date_col, date_parser, date_format, dayfirst, cache_dates, iterator, chunksize, compression, thousands, decimal, lineterminator, quotechar, quoting, doublequote, escapechar, comment, encoding, encoding_errors, dialect, on_bad_lines, delim_whitespace, low_memory, memory_map, float_precision, storage_options, dtype_backend)\u001b[0m\n\u001b[1;32m    910\u001b[0m     \u001b[0mkwds\u001b[0m\u001b[0;34m.\u001b[0m\u001b[0mupdate\u001b[0m\u001b[0;34m(\u001b[0m\u001b[0mkwds_defaults\u001b[0m\u001b[0;34m)\u001b[0m\u001b[0;34m\u001b[0m\u001b[0;34m\u001b[0m\u001b[0m\n\u001b[1;32m    911\u001b[0m \u001b[0;34m\u001b[0m\u001b[0m\n\u001b[0;32m--> 912\u001b[0;31m     \u001b[0;32mreturn\u001b[0m \u001b[0m_read\u001b[0m\u001b[0;34m(\u001b[0m\u001b[0mfilepath_or_buffer\u001b[0m\u001b[0;34m,\u001b[0m \u001b[0mkwds\u001b[0m\u001b[0;34m)\u001b[0m\u001b[0;34m\u001b[0m\u001b[0;34m\u001b[0m\u001b[0m\n\u001b[0m\u001b[1;32m    913\u001b[0m \u001b[0;34m\u001b[0m\u001b[0m\n\u001b[1;32m    914\u001b[0m \u001b[0;34m\u001b[0m\u001b[0m\n",
            "\u001b[0;32m/usr/local/lib/python3.10/dist-packages/pandas/io/parsers/readers.py\u001b[0m in \u001b[0;36m_read\u001b[0;34m(filepath_or_buffer, kwds)\u001b[0m\n\u001b[1;32m    575\u001b[0m \u001b[0;34m\u001b[0m\u001b[0m\n\u001b[1;32m    576\u001b[0m     \u001b[0;31m# Create the parser.\u001b[0m\u001b[0;34m\u001b[0m\u001b[0;34m\u001b[0m\u001b[0m\n\u001b[0;32m--> 577\u001b[0;31m     \u001b[0mparser\u001b[0m \u001b[0;34m=\u001b[0m \u001b[0mTextFileReader\u001b[0m\u001b[0;34m(\u001b[0m\u001b[0mfilepath_or_buffer\u001b[0m\u001b[0;34m,\u001b[0m \u001b[0;34m**\u001b[0m\u001b[0mkwds\u001b[0m\u001b[0;34m)\u001b[0m\u001b[0;34m\u001b[0m\u001b[0;34m\u001b[0m\u001b[0m\n\u001b[0m\u001b[1;32m    578\u001b[0m \u001b[0;34m\u001b[0m\u001b[0m\n\u001b[1;32m    579\u001b[0m     \u001b[0;32mif\u001b[0m \u001b[0mchunksize\u001b[0m \u001b[0;32mor\u001b[0m \u001b[0miterator\u001b[0m\u001b[0;34m:\u001b[0m\u001b[0;34m\u001b[0m\u001b[0;34m\u001b[0m\u001b[0m\n",
            "\u001b[0;32m/usr/local/lib/python3.10/dist-packages/pandas/io/parsers/readers.py\u001b[0m in \u001b[0;36m__init__\u001b[0;34m(self, f, engine, **kwds)\u001b[0m\n\u001b[1;32m   1405\u001b[0m \u001b[0;34m\u001b[0m\u001b[0m\n\u001b[1;32m   1406\u001b[0m         \u001b[0mself\u001b[0m\u001b[0;34m.\u001b[0m\u001b[0mhandles\u001b[0m\u001b[0;34m:\u001b[0m \u001b[0mIOHandles\u001b[0m \u001b[0;34m|\u001b[0m \u001b[0;32mNone\u001b[0m \u001b[0;34m=\u001b[0m \u001b[0;32mNone\u001b[0m\u001b[0;34m\u001b[0m\u001b[0;34m\u001b[0m\u001b[0m\n\u001b[0;32m-> 1407\u001b[0;31m         \u001b[0mself\u001b[0m\u001b[0;34m.\u001b[0m\u001b[0m_engine\u001b[0m \u001b[0;34m=\u001b[0m \u001b[0mself\u001b[0m\u001b[0;34m.\u001b[0m\u001b[0m_make_engine\u001b[0m\u001b[0;34m(\u001b[0m\u001b[0mf\u001b[0m\u001b[0;34m,\u001b[0m \u001b[0mself\u001b[0m\u001b[0;34m.\u001b[0m\u001b[0mengine\u001b[0m\u001b[0;34m)\u001b[0m\u001b[0;34m\u001b[0m\u001b[0;34m\u001b[0m\u001b[0m\n\u001b[0m\u001b[1;32m   1408\u001b[0m \u001b[0;34m\u001b[0m\u001b[0m\n\u001b[1;32m   1409\u001b[0m     \u001b[0;32mdef\u001b[0m \u001b[0mclose\u001b[0m\u001b[0;34m(\u001b[0m\u001b[0mself\u001b[0m\u001b[0;34m)\u001b[0m \u001b[0;34m->\u001b[0m \u001b[0;32mNone\u001b[0m\u001b[0;34m:\u001b[0m\u001b[0;34m\u001b[0m\u001b[0;34m\u001b[0m\u001b[0m\n",
            "\u001b[0;32m/usr/local/lib/python3.10/dist-packages/pandas/io/parsers/readers.py\u001b[0m in \u001b[0;36m_make_engine\u001b[0;34m(self, f, engine)\u001b[0m\n\u001b[1;32m   1659\u001b[0m                 \u001b[0;32mif\u001b[0m \u001b[0;34m\"b\"\u001b[0m \u001b[0;32mnot\u001b[0m \u001b[0;32min\u001b[0m \u001b[0mmode\u001b[0m\u001b[0;34m:\u001b[0m\u001b[0;34m\u001b[0m\u001b[0;34m\u001b[0m\u001b[0m\n\u001b[1;32m   1660\u001b[0m                     \u001b[0mmode\u001b[0m \u001b[0;34m+=\u001b[0m \u001b[0;34m\"b\"\u001b[0m\u001b[0;34m\u001b[0m\u001b[0;34m\u001b[0m\u001b[0m\n\u001b[0;32m-> 1661\u001b[0;31m             self.handles = get_handle(\n\u001b[0m\u001b[1;32m   1662\u001b[0m                 \u001b[0mf\u001b[0m\u001b[0;34m,\u001b[0m\u001b[0;34m\u001b[0m\u001b[0;34m\u001b[0m\u001b[0m\n\u001b[1;32m   1663\u001b[0m                 \u001b[0mmode\u001b[0m\u001b[0;34m,\u001b[0m\u001b[0;34m\u001b[0m\u001b[0;34m\u001b[0m\u001b[0m\n",
            "\u001b[0;32m/usr/local/lib/python3.10/dist-packages/pandas/io/common.py\u001b[0m in \u001b[0;36mget_handle\u001b[0;34m(path_or_buf, mode, encoding, compression, memory_map, is_text, errors, storage_options)\u001b[0m\n\u001b[1;32m    857\u001b[0m         \u001b[0;32mif\u001b[0m \u001b[0mioargs\u001b[0m\u001b[0;34m.\u001b[0m\u001b[0mencoding\u001b[0m \u001b[0;32mand\u001b[0m \u001b[0;34m\"b\"\u001b[0m \u001b[0;32mnot\u001b[0m \u001b[0;32min\u001b[0m \u001b[0mioargs\u001b[0m\u001b[0;34m.\u001b[0m\u001b[0mmode\u001b[0m\u001b[0;34m:\u001b[0m\u001b[0;34m\u001b[0m\u001b[0;34m\u001b[0m\u001b[0m\n\u001b[1;32m    858\u001b[0m             \u001b[0;31m# Encoding\u001b[0m\u001b[0;34m\u001b[0m\u001b[0;34m\u001b[0m\u001b[0m\n\u001b[0;32m--> 859\u001b[0;31m             handle = open(\n\u001b[0m\u001b[1;32m    860\u001b[0m                 \u001b[0mhandle\u001b[0m\u001b[0;34m,\u001b[0m\u001b[0;34m\u001b[0m\u001b[0;34m\u001b[0m\u001b[0m\n\u001b[1;32m    861\u001b[0m                 \u001b[0mioargs\u001b[0m\u001b[0;34m.\u001b[0m\u001b[0mmode\u001b[0m\u001b[0;34m,\u001b[0m\u001b[0;34m\u001b[0m\u001b[0;34m\u001b[0m\u001b[0m\n",
            "\u001b[0;31mFileNotFoundError\u001b[0m: [Errno 2] No such file or directory: '[...]'"
          ]
        }
      ]
    },
    {
      "cell_type": "code",
      "source": [
        "temperatures_vector = utils.read_columm_from_datafile(\n",
        "    datafile_path=\"EngagingInCS/sea-surface-temp-historic-data.csv\",\n",
        "    column_name=\"Annual anomaly\")"
      ],
      "metadata": {
        "id": "mb9YxZSlfr49"
      },
      "execution_count": 4,
      "outputs": []
    },
    {
      "cell_type": "markdown",
      "source": [
        "Vamos imprimir o vetor que acabámos de criar para verificar que o carregamento foi realizado de forma correta. Para isso tens de completar a linha de código seguinte. Verifica sempre todas as tuas ações. O truque é avançar pouco de cada vez e testar muito. E nunca te esqueças, **\"a máquina tem sempre razão\"!**. Um corolário deste axioma é **\"o problema está sempre entre o teclado e a cadeira\"**! 😜"
      ],
      "metadata": {
        "id": "74_l48r9gEjN"
      }
    },
    {
      "cell_type": "code",
      "source": [
        "print([...])"
      ],
      "metadata": {
        "id": "msnEvqp6qbov"
      },
      "execution_count": null,
      "outputs": []
    },
    {
      "cell_type": "code",
      "source": [
        "print(temperatures_vector)"
      ],
      "metadata": {
        "id": "CI7TwfapTAhD"
      },
      "execution_count": null,
      "outputs": []
    },
    {
      "cell_type": "markdown",
      "source": [
        "Um vetor é um conjunto de elementos. Podemos aceder a cada um desses elementos indexando o vetor colocando o índice entre []. Por exmeplo, [0] refere-se ao primeiro elemento do vetor, enquanto que [1] refere-se ao segundo elemento. Vamos imprimir o 1º e 2º elemento do vetor que contém os anos registados no ficheiro."
      ],
      "metadata": {
        "id": "UU8P7f5bgdtH"
      }
    },
    {
      "cell_type": "code",
      "source": [
        "print(years_vector[0])\n",
        "print(years_vector[1])"
      ],
      "metadata": {
        "id": "ZwYpPyyGTsMC"
      },
      "execution_count": null,
      "outputs": []
    },
    {
      "cell_type": "markdown",
      "source": [
        "Altera o seguinte código para imprimires no ecrã o 1º e 2º elemento do vetor que contém todas as temperaturas registadas no ficheiro."
      ],
      "metadata": {
        "id": "fJaiQLsLiMMZ"
      }
    },
    {
      "cell_type": "code",
      "source": [
        "print([...])\n",
        "print([...])"
      ],
      "metadata": {
        "id": "ikjOq1YCqmLh"
      },
      "execution_count": null,
      "outputs": []
    },
    {
      "cell_type": "code",
      "source": [
        "print(temperatures_vector[0])\n",
        "print(temperatures_vector[1])"
      ],
      "metadata": {
        "id": "8QmU_sHZT0Lr"
      },
      "execution_count": null,
      "outputs": []
    },
    {
      "cell_type": "markdown",
      "source": [
        "# Visualizar o dataset"
      ],
      "metadata": {
        "id": "JmGXvUpsmqlM"
      }
    },
    {
      "cell_type": "markdown",
      "source": [
        "Vamos passar então a visualisar os dados que acabámos de registar a partir do ficheiro. Recorda-te que em **years_vector** temos um vetor com todos anos com registo e em **temperatures_vector** as respetivas temperaturas. Portanto **temperatures_vector[0]** contém a temperatura registada no ano guardado em **years_vector[0]**, enquanto que **temperatures_vector[1]** contém a temperatura registada no ano guardado em **years_vector[1]** e assim por diante."
      ],
      "metadata": {
        "id": "5krS0W8ridZb"
      }
    },
    {
      "cell_type": "markdown",
      "source": [
        "O seguinte código utiliza uma função para criar um gráfico com os anos no eixo horizontal e as temperaturas no eixo vertical. Podes alterar os vários argumentos de entrada para configurar o gráfico."
      ],
      "metadata": {
        "id": "ZhBB70W2i7RE"
      }
    },
    {
      "cell_type": "code",
      "source": [
        "utils.set_graph(\n",
        "    x_label='anos', y_label='temp',\n",
        "    x_min=1880, x_max=2050, y_min=-1.5,y_max=1.5)\n",
        "\n",
        "utils.view_scatter(years_vector, temperatures_vector, color='blue')"
      ],
      "metadata": {
        "colab": {
          "base_uri": "https://localhost:8080/",
          "height": 455
        },
        "id": "xN9KFWy9NTYY",
        "outputId": "862e7a8d-0e42-42f2-8137-ea283815d510"
      },
      "execution_count": 9,
      "outputs": [
        {
          "output_type": "display_data",
          "data": {
            "text/plain": [
              "<Figure size 640x480 with 1 Axes>"
            ],
            "image/png": "[encoded data removed]"
          },
          "metadata": {}
        }
      ]
    },
    {
      "cell_type": "markdown",
      "source": [
        "# Treinar e visualizar modelo de previsão"
      ],
      "metadata": {
        "id": "o1zvw960muef"
      }
    },
    {
      "cell_type": "markdown",
      "source": [
        "O gráfico anterior mostra que a temperatura varia de forma não linear ao longo dos anos e, infelizmente, com tendência crescente nas últimas décadas: **as alterações climáticas são reais!**."
      ],
      "metadata": {
        "id": "ahVXHLdgjVI5"
      }
    },
    {
      "cell_type": "markdown",
      "source": [
        "* Vamos agora tentar encontrar a expressão matemática que produza a curva mais simples capaz de melhor representar os vários pontos do gráfico. Dada a não linearidade da curva, vamos usar um polinómio de grau 3.\n",
        "\n",
        "* Os polinómios de grau 3 têm a seguinte formulação:\n",
        "\n",
        "* Variando os coeficientes a3, a2, a1 e a0 conseguimos obter as mais variadas curvas, como as seguintes:\n",
        "\n",
        "* O desafio agora é encontrar os coeficientes que produzem a curva que minimiza a distância média de todos os pontos a essa curva.\n",
        "\n",
        "* A seguinte linha de código faz exatamente isso: recebe os pontos, que são pares (ano, temperatura) e retorna os coeficientes dos poliómio correto. Baseia-se na função **fit_polynomial**, que recebe como primeiro argumento o vetor com os vários anos e como segundo argumento o vetor com as várias temperaturas, sendo que as posições em ambos os vetores são correspondentes (formam pares).\n"
      ],
      "metadata": {
        "id": "eVIzhmydo11E"
      }
    },
    {
      "cell_type": "code",
      "source": [
        "[a3, a2, a1, a0] = utils.fit_polynomial(years_vector, temperatures_vector)"
      ],
      "metadata": {
        "id": "dnRjKMwzdXqw"
      },
      "execution_count": 5,
      "outputs": []
    },
    {
      "cell_type": "markdown",
      "source": [
        "Tenta descobrir que linha de código permite imprimir no ecrã os valores dos quatro coeficientes."
      ],
      "metadata": {
        "id": "Xn5vjvmoqJWr"
      }
    },
    {
      "cell_type": "code",
      "source": [
        "[...]"
      ],
      "metadata": {
        "id": "ukhDHy2CoH_h"
      },
      "execution_count": null,
      "outputs": []
    },
    {
      "cell_type": "code",
      "source": [
        "print(a3,a2,a1,a0)"
      ],
      "metadata": {
        "id": "PYOrThkToEoM"
      },
      "execution_count": null,
      "outputs": []
    },
    {
      "cell_type": "markdown",
      "source": [
        "Vamos de seguida desenhar no ecrã os pontos do conjunto de dados e a curva do polinómio definido por a3, a2, a1 e a0. Podes variar os vários parâmetros do código para obter visualizações diferntes."
      ],
      "metadata": {
        "id": "11You_YwqTyW"
      }
    },
    {
      "cell_type": "code",
      "source": [
        "utils.set_graph(\n",
        "    x_label='anos', y_label='temp',\n",
        "    x_min=1880, x_max=2050, y_min=-1.5,y_max=1.5)\n",
        "\n",
        "utils.view_scatter(years_vector, temperatures_vector, color='blue')\n",
        "\n",
        "utils.view_polynomial(a3, a2, a1, a0, color='red')"
      ],
      "metadata": {
        "colab": {
          "base_uri": "https://localhost:8080/",
          "height": 455
        },
        "id": "H9MkrLmteB1s",
        "outputId": "22c254c5-3c62-4caf-b420-04d8fa12b8c3"
      },
      "execution_count": 6,
      "outputs": [
        {
          "output_type": "display_data",
          "data": {
            "text/plain": [
              "<Figure size 640x480 with 1 Axes>"
            ],
            "image/png": "[encoded data removed]"
          },
          "metadata": {}
        }
      ]
    },
    {
      "cell_type": "markdown",
      "source": [
        "* O gráfico anterior é uma ferramenta de visualização de dados científicos de valor crucial para os cientistas ambientais, pois pemite-lhes compreender as tendências de forma qualitativa (por inspecção visual).\n",
        "* O polinómio prevê os valores de temperatura bem para além do limite temporal imposto pelos dados reais armazenados no ficheiro de dado.\n",
        "* Contudo, não nos podemos esquecer que isto é apenas uma previsão assumindo que o modelo subjacente aos dados reais é um polinómio de grau 3, que pode não ser verdade.\n",
        "*Sem uma bola de cristal só podemos saber se o polinómio é uma aproximação correta à posteriori ..."
      ],
      "metadata": {
        "id": "xPEAqdvPqkKc"
      }
    },
    {
      "cell_type": "markdown",
      "source": [
        "# Criação de sistema de alarme climático"
      ],
      "metadata": {
        "id": "zq1KaedunBEl"
      }
    },
    {
      "cell_type": "markdown",
      "source": [
        "Vamos agora programar um algoritmo para analisar o polinómio e determinar em que anos é que estivemos ou previsivelmente estaremos em crise climática."
      ],
      "metadata": {
        "id": "j0xQSnomq4PZ"
      }
    },
    {
      "cell_type": "markdown",
      "source": [
        "Para que possas compreender como usar um polinómio em Python, começa por codificar as seguintes linhas de código, que apresentam no ecrã o resultado de um produto e de uma potência. Como podes ver, o produto é representado por * e a potência por **. Podia ser pior 😜"
      ],
      "metadata": {
        "id": "Nn84e1NMrezt"
      }
    },
    {
      "cell_type": "code",
      "source": [
        "print(\"2 vezes 3 é \" + str(2*3))\n",
        "print(\"2 ao cubo é \" + str(2**3))"
      ],
      "metadata": {
        "colab": {
          "base_uri": "https://localhost:8080/"
        },
        "id": "H6NR4MKmkUjj",
        "outputId": "c583c375-57a4-48f8-f35f-4a41ec6eadc3"
      },
      "execution_count": 7,
      "outputs": [
        {
          "output_type": "stream",
          "name": "stdout",
          "text": [
            "2 vezes 3 é 6\n",
            "2 ao cubo é 8\n"
          ]
        }
      ]
    },
    {
      "cell_type": "markdown",
      "source": [
        "Testa os teus conhecimentos codificando a expressão Python que produz o resultado de 2 ao cubo vezes 5 à quarta."
      ],
      "metadata": {
        "id": "7HUSuUFvtHME"
      }
    },
    {
      "cell_type": "code",
      "source": [
        "print([...])"
      ],
      "metadata": {
        "id": "Gorh2mabtJWa"
      },
      "execution_count": null,
      "outputs": []
    },
    {
      "cell_type": "code",
      "source": [
        "print(2**3 * 5**4)"
      ],
      "metadata": {
        "id": "5ZjmQTMJr9OQ"
      },
      "execution_count": null,
      "outputs": []
    },
    {
      "cell_type": "markdown",
      "source": [
        "Vamos então agora usar o polinómio para prever temperaturas dado um qualquer ano. Para isso temos de criar a função do polinómio. Essa função recebe um dado x (o ano), avalia o polinómio tendo como base os coeficientes que calculamos previamente e depois devolve o resultado. Em Python isso é feito da seguinte forma."
      ],
      "metadata": {
        "id": "fuu9LmPstXSA"
      }
    },
    {
      "cell_type": "code",
      "source": [
        "def prediction(x):\n",
        "  return a0 + a1 * x + a2 * x ** 2 + a3 * x ** 3"
      ],
      "metadata": {
        "id": "O2vfFnkAR1TP"
      },
      "execution_count": null,
      "outputs": []
    },
    {
      "cell_type": "markdown",
      "source": [
        "Podemos agora usar a função **prediction** para estimar a temperatura no ano 2025."
      ],
      "metadata": {
        "id": "RxzupBzHt8aV"
      }
    },
    {
      "cell_type": "code",
      "source": [
        "y = prediction(2025)\n",
        "print(\"In 2025 temperature will be \" + str(y))"
      ],
      "metadata": {
        "id": "jVvKEFUYiAfM"
      },
      "execution_count": null,
      "outputs": []
    },
    {
      "cell_type": "markdown",
      "source": [
        "Agora que sabemos estimar temperaturas, podemos criar uma função **alarm** que gera um alarme caso a temperatura suba acima de um dado limiar (**threshold**). Esta função recebe dois argumentos de entrada, o ano ao qual queresmo aplicar o alarme e o limiar de temperatura acima do qual o alarme deve ser gerado. Podes alterar os textos dos alarmes para algo que consideres mais adequado ou divertido! No código surgem alguns *comentários* precedidos de %. Esses *comentários* não são processados pelo computador, são apenas indicações para os humanos lerem, ou seja os programadores."
      ],
      "metadata": {
        "id": "P056xOB_uFrJ"
      }
    },
    {
      "cell_type": "code",
      "source": [
        "def alarm(year, threshold):                                # o cabeçalho da função, que recebe um ano e um limiar.\n",
        "  temperature = prediction(year)                           # armazenar a temperatura que prevemos para o ano em questão.\n",
        "  if (temperature > threshold):                            # teste para verificar se a temperatura é superior ao limiar.\n",
        "    print(str(year) + \": Climate alarm activated!\")        # se o teste suceder, então imprimimos esta mensagem.\n",
        "  else:                                                    # no caso do teste não suceder ...\n",
        "    print(str(year) + \": No problems.\")                    # ... imprimimos esta mensagem."
      ],
      "metadata": {
        "id": "mBYt1YB9TSI1"
      },
      "execution_count": null,
      "outputs": []
    },
    {
      "cell_type": "markdown",
      "source": [
        "Vamos então agora testar a noss nova função **alarm** para dois anos diferentes e com um limiar de 0.5. Como podes ver, anos mais recentes parecem ser mais problemáticos. Porque será, certo?! Podes experimentar outros anos e verificar os resultados nos graficos que produzimos anteriormente."
      ],
      "metadata": {
        "id": "EPW7PV0suebp"
      }
    },
    {
      "cell_type": "code",
      "source": [
        "alarm(1940, 0.5)\n",
        "alarm(2040, 0.5)"
      ],
      "metadata": {
        "id": "9CRV_9_0ifpV"
      },
      "execution_count": null,
      "outputs": []
    },
    {
      "cell_type": "markdown",
      "source": [
        "O seguinte código poderia ser usado para gerar alarmes nos anos em que há risco elevado de crise climática, ajudando assim os decisores políticos e a consciencializar os cidadãos. Este código implementa um **ciclo**, que invoca a função **alarm** parameteriza com cada um dos anos entre 1880 e 2024. Em cada iteração do ciclo, a variável **x** toma um dos anos no intervalo definido. Podes alterar esse intervalo e observar os resultados."
      ],
      "metadata": {
        "id": "9t2Q5G36j1bF"
      }
    },
    {
      "cell_type": "code",
      "source": [
        "for x in range(1880,2040):\n",
        "  alarm(x, 0.5)"
      ],
      "metadata": {
        "id": "lSEhFKNrjCAC"
      },
      "execution_count": null,
      "outputs": []
    },
    {
      "cell_type": "markdown",
      "source": [
        "# Conclusão"
      ],
      "metadata": {
        "id": "MAtabeHanG3m"
      }
    },
    {
      "cell_type": "markdown",
      "source": [
        "* Terminaste o teu primeiro programa de Data Science!!!\n",
        "* Parabéns!!! 🎉 🥳"
      ],
      "metadata": {
        "id": "6Bdi4fFnUiVW"
      }
    },
    {
      "cell_type": "markdown",
      "source": [
        "**Nota final:** no mundo real todo o código que experimentaste é codificado de forma sequencial e executado todo utomaticamente, sem que tenhamos de pressionar play em cada passo."
      ],
      "metadata": {
        "id": "uZ4hC6E2v1Gd"
      }
    }
  ]
}