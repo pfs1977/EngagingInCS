{
  "nbformat": 4,
  "nbformat_minor": 0,
  "metadata": {
    "colab": {
      "provenance": [],
      "authorship_tag": "ABX9TyOzSHZblDVSm59aPQLaWTwp",
      "include_colab_link": true
    },
    "kernelspec": {
      "name": "python3",
      "display_name": "Python 3"
    },
    "language_info": {
      "name": "python"
    }
  },
  "cells": [
    {
      "cell_type": "markdown",
      "metadata": {
        "id": "view-in-github",
        "colab_type": "text"
      },
      "source": [
        "<a href=\"https://colab.research.google.com/github/pfs1977/EngagingInCS/blob/main/EngagingInCS_Temperature.ipynb\" target=\"_parent\"><img src=\"https://colab.research.google.com/assets/colab-badge.svg\" alt=\"Open In Colab\"/></a>"
      ]
    },
    {
      "cell_type": "markdown",
      "source": [
        "# Motivação ambiental"
      ],
      "metadata": {
        "id": "KhXAOAEMmIOM"
      }
    },
    {
      "cell_type": "markdown",
      "source": [
        "\n",
        "* A temperatura da água à superfície do oceano é um atributo físico importante dos oceanos. À medida que os oceanos absorvem mais calor, a temperatura da superfície do mar aumenta e os padrões de circulação oceânica que transportam água quente e fria à volta do globo alteram-se.\n",
        "\n",
        "* As mudanças na temperatura da superfície do mar podem alterar os ecossistemas marinhos de várias formas, alterarndo padrões de migração e reprodução, assim como ameaçando a vida oceânica sensível.\n",
        "\n",
        "* Como os oceanos interagem continuamente com a atmosfera, a temperatura da superfície do mar também pode ter efeitos profundos no clima global, aumentando o risco de chuva intensa e neve, alterando as trajectórias das tempestades, prolongando a época de crescimento de certas bactérias com risco para a nossa saúde.\n",
        "\n",
        "* Podes aprender mais sobre este assuno no seguinte link: https://www.epa.gov/climate-indicators/climate-change-indicators-sea-surface-temperature\n"
      ],
      "metadata": {
        "id": "C48IH4eYU1a5"
      }
    },
    {
      "cell_type": "markdown",
      "source": [
        "# Motivação técnica"
      ],
      "metadata": {
        "id": "opL1HKUmUr6Z"
      }
    },
    {
      "cell_type": "markdown",
      "source": [
        "* Para se mitigar as alterações climáticas é necessário compreender os fenómenos que as influenciam e ser capaz de prever como é que estes evoluem no futuro para assim conseguirmos criar políticas adequadas.\n",
        "* O estudo dos fenómenos passa muito pela análise de vastas quantidades de dados** numéricos e da criação de modelos que possamos usar para prever dados quando estes não existem, por exemplo relativamente ao futuro. Realizar essa análise e síntese de modelos de forma manual é impraticável.\n",
        "* Os computadores têm a capacidade de realizar essas tarefas de forma rápida e sem erros. A essa área da **Informática** chamamos **Ciência dos Dados**. Contudo, os computadores requerem que lhe seja explicado como fazer essa análise.\n",
        "* Programar não é mais do que comunicar procedimentos para o computador realizar. Aprender a programar é uma combinação de aprender uma nova língua e formalisar raciocínio lógico.\n",
        "* Estas características da programação tornam-na muito aliciante para quem gosta de matemática e de resolver problemas.\n",
        "* Programar requer muita atenção ao detalhe, pois o computador requer que o que lhe comuniquemos esteja exento de erros sintáticos (semelhante ao conceito de erro ortográfico) e de erros semânticos (semelhante ao conceito de erro gramatical).\n",
        "* Os computadores têm a capacidade de indicar ao programador praticamente em tempo-real problemas no código que o programador está a desenvolver. Este feedback muito imediato torna a tarefa da progrmação envolvente, semelhante ao que sentimos quando jogamos um vídeo jogo.\n",
        "* De seguida vamos abordar o problema da previsão da temperatura do oceano através da linguagem de programação mais utilizada no momento atual, o Python.\n",
        "* Grande parte do código está já preparado, tendo apenas que o executar e observar os resultados. Contudo, para ser mais interessante, também terás de preencher algumas zonas do código, indicadas com **[...]**.\n",
        "* Esperamos que te **divirtas** e que consigas sentir o quão **fascinante** e **impactante** é a **Engenharia Informática**!\n",
        "🙂\n"
      ],
      "metadata": {
        "id": "WPumXJaMQqq4"
      }
    },
    {
      "cell_type": "markdown",
      "source": [
        "#Preparação do ambiente de programação"
      ],
      "metadata": {
        "id": "3VWg7fEXCosO"
      }
    },
    {
      "cell_type": "markdown",
      "source": [
        "Apenas carrega em play e aguarda um pouco."
      ],
      "metadata": {
        "id": "9FdvVtu7U63G"
      }
    },
    {
      "cell_type": "code",
      "source": [
        "!rm -r EngagingInCS/\n",
        "!git clone https://github.com/pfs1977/EngagingInCS.git\n",
        "import sys\n",
        "sys.path.append('/content/EngagingInCS/')"
      ],
      "metadata": {
        "id": "-5u4NssxEYpw",
        "collapsed": true
      },
      "execution_count": null,
      "outputs": []
    },
    {
      "cell_type": "markdown",
      "source": [
        "# Análise do data set"
      ],
      "metadata": {
        "id": "zTIG56RqQrgQ"
      }
    },
    {
      "cell_type": "markdown",
      "source": [
        "* Fomos descarregar um data set com as temperaturas dos oceanos neste site:\n",
        "https://www.epa.gov/climate-indicators/climate-change-indicators-sea-surface-temperature\n",
        "\n",
        "* Os dados são apresentados como diferenças em comparação com a temperatura média da superfície do mar global entre 1971 e 2000. Os dados cobrem o período compreendido entre 1880 e 2020.\n",
        "\n",
        "* Os dados estão armazenados num ficheiro csv (comma separated values). A primeira linha do ficheiro contém um cabeçalho com o nome das várias colunas de dados, todas separadas com ponto e vírgula.\n",
        "\n",
        "* Atenção que os valores estão em grays Fahrenheit. Uma diferença de 1 grau Fahrenheit equivale a aproximadamente 0,5556 graus Celsius.\n",
        "\n",
        "Vamos usar o camando **head** para observarmos as primeiras 5 linhas do ficheiro. (podes alterar no comando o valor numérico após **n** para veres mais linhas):"
      ],
      "metadata": {
        "id": "yW80lxq3RQko"
      }
    },
    {
      "cell_type": "code",
      "source": [
        "!head -n 5 EngagingInCS/sea-surface-temp-historic-data.csv"
      ],
      "metadata": {
        "id": "otaIVA9vIzNM"
      },
      "execution_count": null,
      "outputs": []
    },
    {
      "cell_type": "markdown",
      "source": [
        "Vamos agora usar o comando **tail** para observar as últimas 5 linhas do ficheiro (podes alterar no comando o valor numérico após **n** para veres mais linhas):"
      ],
      "metadata": {
        "id": "8kbWz6e9RWZm"
      }
    },
    {
      "cell_type": "code",
      "source": [
        "!tail -n [...] EngagingInCS/[...].csv"
      ],
      "metadata": {
        "id": "U_XTnpgBo5UI"
      },
      "execution_count": null,
      "outputs": []
    },
    {
      "cell_type": "code",
      "source": [
        "!tail -n 5 EngagingInCS/sea-surface-temp-historic-data.csv"
      ],
      "metadata": {
        "id": "yzu58W9-QghJ",
        "collapsed": true
      },
      "execution_count": null,
      "outputs": []
    },
    {
      "cell_type": "markdown",
      "source": [
        "# Importação de biblioteca"
      ],
      "metadata": {
        "id": "O6MXEfonQvsZ"
      }
    },
    {
      "cell_type": "markdown",
      "source": [
        "* Programar envolve integrar vários níveis de abstração. Existem aspetos de detalhe, que chamamos de baixo nível, que por vezes são resolvidos por bibliotecas de software já existentes no sistema.\n",
        "\n",
        "* Programar é uma atividade em equipa. Nessas equipas as pessoas ficam com diferentes responsabilidades. Por exemplo, um programador desenvolve as tais bibliotecas de baixo nível, enquanto que outros as usam para resolver tarefas de maior abstração.\n",
        "\n",
        "* Neste caso nós preparámos uma bibliotica para vocês usarem, que está armazenada no ficheiro Python \"utils.py\".\n",
        "\n",
        "* Vamos então começar por importar para o nosso projeto as várias funcionalidades de baixo nível desse ficheiro."
      ],
      "metadata": {
        "id": "k0-jmSJYRlCl"
      }
    },
    {
      "cell_type": "code",
      "source": [
        "import utils"
      ],
      "metadata": {
        "id": "e4f3_H62RkN6"
      },
      "execution_count": null,
      "outputs": []
    },
    {
      "cell_type": "markdown",
      "source": [
        "Se tiveres curiosidade pode executar o comando **cat** para veres o conteúdo desse ficheiro. Não te assustes com o conteúdo. Apenas parece complicado porque é uma língua que ainda não conheces. Como qualquer outra língua, é apenas uma questão de prática para a aprenderes."
      ],
      "metadata": {
        "id": "pCQIylAQR9Zs"
      }
    },
    {
      "cell_type": "code",
      "source": [
        "!cat EngagingInCS/utils.py"
      ],
      "metadata": {
        "id": "tNoFiELAR06g",
        "collapsed": true
      },
      "execution_count": null,
      "outputs": []
    },
    {
      "cell_type": "markdown",
      "source": [
        "# Impressão no ecrã"
      ],
      "metadata": {
        "id": "uvRGwUedmYVy"
      }
    },
    {
      "cell_type": "markdown",
      "source": [
        "Podes imprimir conteúdo no ecrã durante a execução do teu código. Em programação, ao texto chamamos *strings*, sendo que estas são delimitadas por aspas. Experimenta o exemplo seguinte, que invoca a função **print** para imprimir a *string* passada como argumento de entrada."
      ],
      "metadata": {
        "id": "gONNgPTQcm-X"
      }
    },
    {
      "cell_type": "code",
      "source": [
        "print(\"hello world\")"
      ],
      "metadata": {
        "id": "SraJddKBk4-7"
      },
      "execution_count": null,
      "outputs": []
    },
    {
      "cell_type": "markdown",
      "source": [
        "Ajusta a seguinte linha de código para dizer olá mundo em português."
      ],
      "metadata": {
        "id": "R-znYZNBpUXy"
      }
    },
    {
      "cell_type": "code",
      "source": [
        "print([...])"
      ],
      "metadata": {
        "id": "PqBTlOONpRhP"
      },
      "execution_count": null,
      "outputs": []
    },
    {
      "cell_type": "markdown",
      "source": [
        "Podemos guardar informação em variáveis, tal como na matemática. Para isso utilizamos o operador =, que tem um significado diferente do da matemática. Ele representa atribuição. Por exemplo A = B significa que o conteúdo da variável B é copiado para a variável A, ficando no final ambas com o mesmo valor. Podes pensar no \"=\" como uma seta para a esquerda: \"<-\".Experimenta o seguinte exemplo, que começa por copiar um texto para dentro da variável a, que é depois impressa no ecrã."
      ],
      "metadata": {
        "id": "-PqmV5FudvJe"
      }
    },
    {
      "cell_type": "code",
      "source": [
        "a = \"hello world\"\n",
        "print(a)"
      ],
      "metadata": {
        "id": "khip_iq1ktWK"
      },
      "execution_count": null,
      "outputs": []
    },
    {
      "cell_type": "markdown",
      "source": [
        "De seguida demonstra-se que as variáveis não armazenam apenas texto, também podem armazenar números naturais e reais."
      ],
      "metadata": {
        "id": "A4tFdKiHejd7"
      }
    },
    {
      "cell_type": "code",
      "source": [
        "a=1234\n",
        "print(a)"
      ],
      "metadata": {
        "id": "DNq83YZvk9VP"
      },
      "execution_count": null,
      "outputs": []
    },
    {
      "cell_type": "markdown",
      "source": [
        "Podemos juntar textos (concatenar) utilizando o operaor +. Se quisermos juntar um texto com um número, temos primeiro de transformar o número em texto através da função **str**. Essa função recebe um valor que não é uma *string* como argumento de entrada e devolve a sua versão em *string*. No fundo a ideia é que se tiveres *string1* e *string2*, **string1 + string2** resulta numa *string* composta. Experimenta o seguinte exemplo."
      ],
      "metadata": {
        "id": "v81qkYWgexvO"
      }
    },
    {
      "cell_type": "code",
      "source": [
        "print(\"hello world \" + str(a))"
      ],
      "metadata": {
        "id": "V-SIoKjwlEaL"
      },
      "execution_count": null,
      "outputs": []
    },
    {
      "cell_type": "markdown",
      "source": [
        "Vamos praticar o que acabaram de aprender. Criem uma variável **idade** com a vossa idade e façam aparecer no ecrã \"olá\" seguido do conteúdo dessa variável."
      ],
      "metadata": {
        "id": "vfjnp-LjpwTD"
      }
    },
    {
      "cell_type": "code",
      "source": [
        "idade = [...]\n",
        "print([...] + [...])"
      ],
      "metadata": {
        "id": "CM6RF2WBpwzI"
      },
      "execution_count": null,
      "outputs": []
    },
    {
      "cell_type": "markdown",
      "source": [
        "# Carregamento do dataset"
      ],
      "metadata": {
        "id": "hm4lNFVxmjqw"
      }
    },
    {
      "cell_type": "markdown",
      "source": [
        "Vamos usar a função **read_columm_from_datafile** para ler a coluna de dados **Year** do ficheiro csv e armazenar essa coluna sob a forma de vetor em **years_vector**. Este vetor vai então armazenar de forma ordenada todos os anos para os quais há registos no ficheiro. A função **read_columm_from_datafile** recee dois argumentos, o primeiro que indica onde está o ficheiro e o segundo que indica que coluna desse ficheiro pretendemos processar."
      ],
      "metadata": {
        "id": "PKUEsbnJbBWX"
      }
    },
    {
      "cell_type": "code",
      "source": [
        "years_vector = utils.read_columm_from_datafile(\n",
        "    datafile_path=\"EngagingInCS/sea-surface-temp-historic-data.csv\",\n",
        "    column_name=\"Year\")"
      ],
      "metadata": {
        "id": "7MCQd1JeffqD"
      },
      "execution_count": null,
      "outputs": []
    },
    {
      "cell_type": "markdown",
      "source": [
        "Vamos agora usar a função **print** para imprimir no ecrã o conteúdo do vetor que carregámos do ficheiro."
      ],
      "metadata": {
        "id": "c-A3NMflfQAZ"
      }
    },
    {
      "cell_type": "code",
      "source": [
        "print(years_vector)"
      ],
      "metadata": {
        "id": "kA193BLOfoQT"
      },
      "execution_count": null,
      "outputs": []
    },
    {
      "cell_type": "markdown",
      "source": [
        "Vamos usar novamente a função **read_columm_from_datafile**, mas agora para ler a coluna de dados **Annual anomaly** do ficheiro csv e armazenar essa coluna sob a forma de vetor em **temperatures_vector**. Este vetor vai então armazenar de forma ordenada todos as temperaturas das quais há registo no ficheiro. Desta vez deixámos uma parte para vocês preencherem."
      ],
      "metadata": {
        "id": "RXeeOSdJfbM1"
      }
    },
    {
      "cell_type": "code",
      "source": [
        "temperatures_vector = utils.read_columm_from_datafile(\n",
        "    datafile_path=\"[...]\",\n",
        "    column_name=\"[...]\")"
      ],
      "metadata": {
        "id": "KPL6DTrnqQnd"
      },
      "execution_count": null,
      "outputs": []
    },
    {
      "cell_type": "code",
      "source": [
        "temperatures_vector = utils.read_columm_from_datafile(\n",
        "    datafile_path=\"EngagingInCS/sea-surface-temp-historic-data.csv\",\n",
        "    column_name=\"Annual anomaly\")"
      ],
      "metadata": {
        "id": "mb9YxZSlfr49"
      },
      "execution_count": null,
      "outputs": []
    },
    {
      "cell_type": "markdown",
      "source": [
        "Vamos imprimir o vetor que acabámos de criar para verificar que o carregamento foi realizado de forma correta. Para isso tens de completar a linha de código seguinte. Verifica sempre todas as tuas ações. O truque é avançar pouco de cada vez e testar muito. E nunca te esqueças, **\"a máquina tem sempre razão\"!**. Um corolário deste axioma é **\"o problema está sempre entre o teclado e a cadeira\"**! 😜"
      ],
      "metadata": {
        "id": "74_l48r9gEjN"
      }
    },
    {
      "cell_type": "code",
      "source": [
        "print([...])"
      ],
      "metadata": {
        "id": "msnEvqp6qbov"
      },
      "execution_count": null,
      "outputs": []
    },
    {
      "cell_type": "code",
      "source": [
        "print(temperatures_vector)"
      ],
      "metadata": {
        "id": "CI7TwfapTAhD"
      },
      "execution_count": null,
      "outputs": []
    },
    {
      "cell_type": "markdown",
      "source": [
        "Um vetor é um conjunto de elementos. Podemos aceder a cada um desses elementos indexando o vetor colocando o índice entre []. Por exmeplo, [0] refere-se ao primeiro elemento do vetor, enquanto que [1] refere-se ao segundo elemento. Vamos imprimir o 1º e 2º elemento do vetor que contém os anos registados no ficheiro."
      ],
      "metadata": {
        "id": "UU8P7f5bgdtH"
      }
    },
    {
      "cell_type": "code",
      "source": [
        "print(years_vector[0])\n",
        "print(years_vector[1])"
      ],
      "metadata": {
        "id": "ZwYpPyyGTsMC"
      },
      "execution_count": null,
      "outputs": []
    },
    {
      "cell_type": "markdown",
      "source": [
        "Altera o seguinte código para imprimires no ecrã o 1º e 2º elemento do vetor que contém todas as temperaturas registadas no ficheiro."
      ],
      "metadata": {
        "id": "fJaiQLsLiMMZ"
      }
    },
    {
      "cell_type": "code",
      "source": [
        "print([...])\n",
        "print([...])"
      ],
      "metadata": {
        "id": "ikjOq1YCqmLh"
      },
      "execution_count": null,
      "outputs": []
    },
    {
      "cell_type": "code",
      "source": [
        "print(temperatures_vector[0])\n",
        "print(temperatures_vector[1])"
      ],
      "metadata": {
        "id": "8QmU_sHZT0Lr"
      },
      "execution_count": null,
      "outputs": []
    },
    {
      "cell_type": "markdown",
      "source": [
        "# Visualizar o dataset"
      ],
      "metadata": {
        "id": "JmGXvUpsmqlM"
      }
    },
    {
      "cell_type": "markdown",
      "source": [
        "Vamos passar então a visualisar os dados que acabámos de registar a partir do ficheiro. Recorda-te que em **years_vector** temos um vetor com todos anos com registo e em **temperatures_vector** as respetivas temperaturas. Portanto **temperatures_vector[0]** contém a temperatura registada no ano guardado em **years_vector[0]**, enquanto que **temperatures_vector[1]** contém a temperatura registada no ano guardado em **years_vector[1]** e assim por diante."
      ],
      "metadata": {
        "id": "5krS0W8ridZb"
      }
    },
    {
      "cell_type": "markdown",
      "source": [
        "O seguinte código utiliza uma função para criar um gráfico com os anos no eixo horizontal e as temperaturas no eixo vertical. Podes alterar os vários argumentos de entrada para configurar o gráfico."
      ],
      "metadata": {
        "id": "ZhBB70W2i7RE"
      }
    },
    {
      "cell_type": "code",
      "source": [
        "utils.set_graph(\n",
        "    x_label='anos', y_label='temp',\n",
        "    x_min=1880, x_max=2050, y_min=-1.5,y_max=1.5)\n",
        "\n",
        "utils.view_scatter(years_vector, temperatures_vector, color='blue')"
      ],
      "metadata": {
        "id": "xN9KFWy9NTYY"
      },
      "execution_count": null,
      "outputs": []
    },
    {
      "cell_type": "markdown",
      "source": [
        "# Treinar e visualizar modelo de previsão"
      ],
      "metadata": {
        "id": "o1zvw960muef"
      }
    },
    {
      "cell_type": "markdown",
      "source": [
        "O gráfico anterior mostra que a temperatura varia de forma não linear ao longo dos anos e, infelizmente, com tendência crescente nas últimas décadas: **as alterações climáticas são reais!**."
      ],
      "metadata": {
        "id": "ahVXHLdgjVI5"
      }
    },
    {
      "cell_type": "markdown",
      "source": [
        "* Vamos agora tentar encontrar a expressão matemática que produza a curva mais simples capaz de melhor representar os vários pontos do gráfico. Dada a não linearidade da curva, vamos usar um polinómio de grau 3.\n",
        "\n",
        "* Os polinómios de grau 3 têm a seguinte formulação:\n",
        "\n",
        "* Variando os coeficientes a3, a2, a1 e a0 conseguimos obter as mais variadas curvas, como as seguintes:\n",
        "\n",
        "* O desafio agora é encontrar os coeficientes que produzem a curva que minimiza a distância média de todos os pontos a essa curva.\n",
        "\n",
        "* A seguinte linha de código faz exatamente isso: recebe os pontos, que são pares (ano, temperatura) e retorna os coeficientes dos poliómio correto. Baseia-se na função **fit_polynomial**, que recebe como primeiro argumento o vetor com os vários anos e como segundo argumento o vetor com as várias temperaturas, sendo que as posições em ambos os vetores são correspondentes (formam pares).\n"
      ],
      "metadata": {
        "id": "eVIzhmydo11E"
      }
    },
    {
      "cell_type": "code",
      "source": [
        "[a3, a2, a1, a0] = utils.fit_polynomial(years_vector, temperatures_vector)"
      ],
      "metadata": {
        "id": "dnRjKMwzdXqw"
      },
      "execution_count": null,
      "outputs": []
    },
    {
      "cell_type": "markdown",
      "source": [
        "Tenta descobrir que linha de código permite imprimir no ecrã os valores dos quatro coeficientes."
      ],
      "metadata": {
        "id": "Xn5vjvmoqJWr"
      }
    },
    {
      "cell_type": "code",
      "source": [
        "[...]"
      ],
      "metadata": {
        "id": "ukhDHy2CoH_h"
      },
      "execution_count": null,
      "outputs": []
    },
    {
      "cell_type": "code",
      "source": [
        "print(a3,a2,a1,a0)"
      ],
      "metadata": {
        "id": "PYOrThkToEoM"
      },
      "execution_count": null,
      "outputs": []
    },
    {
      "cell_type": "markdown",
      "source": [
        "Vamos de seguida desenhar no ecrã os pontos do conjunto de dados e a curva do polinómio definido por a3, a2, a1 e a0. Podes variar os vários parâmetros do código para obter visualizações diferntes."
      ],
      "metadata": {
        "id": "11You_YwqTyW"
      }
    },
    {
      "cell_type": "code",
      "source": [
        "utils.set_graph(\n",
        "    x_label='anos', y_label='temp',\n",
        "    x_min=1880, x_max=2050, y_min=-1.5,y_max=1.5)\n",
        "\n",
        "utils.view_scatter(years_vector, temperatures_vector, color='blue')\n",
        "\n",
        "utils.view_polynomial(a3, a2, a1, a0, color='red')"
      ],
      "metadata": {
        "id": "H9MkrLmteB1s"
      },
      "execution_count": null,
      "outputs": []
    },
    {
      "cell_type": "markdown",
      "source": [
        "* O gráfico anterior é uma ferramenta de visualização de dados científicos de valor crucial para os cientistas ambientais, pois pemite-lhes compreender as tendências de forma qualitativa (por inspecção visual).\n",
        "* O polinómio prevê os valores de temperatura bem para além do limite temporal imposto pelos dados reais armazenados no ficheiro de dado.\n",
        "* Contudo, não nos podemos esquecer que isto é apenas uma previsão assumindo que o modelo subjacente aos dados reais é um polinómio de grau 3, que pode não ser verdade.\n",
        "*Sem uma bola de cristal só podemos saber se o polinómio é uma aproximação correta à posteriori ..."
      ],
      "metadata": {
        "id": "xPEAqdvPqkKc"
      }
    },
    {
      "cell_type": "markdown",
      "source": [
        "# Criação de sistema de alarme climático"
      ],
      "metadata": {
        "id": "zq1KaedunBEl"
      }
    },
    {
      "cell_type": "markdown",
      "source": [
        "Vamos agora programar um algoritmo para analisar o polinómio e determinar em que anos é que estivemos ou previsivelmente estaremos em crise climática."
      ],
      "metadata": {
        "id": "j0xQSnomq4PZ"
      }
    },
    {
      "cell_type": "markdown",
      "source": [
        "Para que possas compreender como usar um polinómio em Python, começa por codificar as seguintes linhas de código, que apresentam no ecrã o resultado de um produto e de uma potência. Como podes ver, o produto é representado por * e a potência por **. Podia ser pior 😜"
      ],
      "metadata": {
        "id": "Nn84e1NMrezt"
      }
    },
    {
      "cell_type": "code",
      "source": [
        "print(\"2 vezes 3 é \" + str(2*3))\n",
        "print(\"2 ao cubo é \" + str(2**3))"
      ],
      "metadata": {
        "id": "H6NR4MKmkUjj"
      },
      "execution_count": null,
      "outputs": []
    },
    {
      "cell_type": "markdown",
      "source": [
        "Testa os teus conhecimentos codificando a expressão Python que produz o resultado de 2 ao cubo vezes 5 à quarta."
      ],
      "metadata": {
        "id": "7HUSuUFvtHME"
      }
    },
    {
      "cell_type": "code",
      "source": [
        "print([...])"
      ],
      "metadata": {
        "id": "Gorh2mabtJWa"
      },
      "execution_count": null,
      "outputs": []
    },
    {
      "cell_type": "code",
      "source": [
        "print(2**3 * 5**4)"
      ],
      "metadata": {
        "id": "5ZjmQTMJr9OQ"
      },
      "execution_count": null,
      "outputs": []
    },
    {
      "cell_type": "markdown",
      "source": [
        "Vamos então agora usar o polinómio para prever temperaturas dado um qualquer ano. Para isso temos de criar a função do polinómio. Essa função recebe um dado x (o ano), avalia o polinómio tendo como base os coeficientes que calculamos previamente e depois devolve o resultado. Em Python isso é feito da seguinte forma."
      ],
      "metadata": {
        "id": "fuu9LmPstXSA"
      }
    },
    {
      "cell_type": "code",
      "source": [
        "def prediction(x):\n",
        "  return a0 + a1 * x + a2 * x ** 2 + a3 * x ** 3"
      ],
      "metadata": {
        "id": "O2vfFnkAR1TP"
      },
      "execution_count": null,
      "outputs": []
    },
    {
      "cell_type": "markdown",
      "source": [
        "Podemos agora usar a função **prediction** para estimar a temperatura no ano 2025."
      ],
      "metadata": {
        "id": "RxzupBzHt8aV"
      }
    },
    {
      "cell_type": "code",
      "source": [
        "y = prediction(2025)\n",
        "print(\"In 2025 temperature will be \" + str(y))"
      ],
      "metadata": {
        "id": "jVvKEFUYiAfM"
      },
      "execution_count": null,
      "outputs": []
    },
    {
      "cell_type": "markdown",
      "source": [
        "Agora que sabemos estimar temperaturas, podemos criar uma função **alarm** que gera um alarme caso a temperatura suba acima de um dado limiar (**threshold**). Esta função recebe dois argumentos de entrada, o ano ao qual queresmo aplicar o alarme e o limiar de temperatura acima do qual o alarme deve ser gerado. Podes alterar os textos dos alarmes para algo que consideres mais adequado ou divertido! No código surgem alguns *comentários* precedidos de %. Esses *comentários* não são processados pelo computador, são apenas indicações para os humanos lerem, ou seja os programadores."
      ],
      "metadata": {
        "id": "P056xOB_uFrJ"
      }
    },
    {
      "cell_type": "code",
      "source": [
        "def alarm(year, threshold):                                # o cabeçalho da função, que recebe um ano e um limiar.\n",
        "  temperature = prediction(year)                           # armazenar a temperatura que prevemos para o ano em questão.\n",
        "  if (temperature > threshold):                            # teste para verificar se a temperatura é superior ao limiar.\n",
        "    print(str(year) + \": Climate alarm activated!\")        # se o teste suceder, então imprimimos esta mensagem.\n",
        "  else:                                                    # no caso do teste não suceder ...\n",
        "    print(str(year) + \": No problems.\")                    # ... imprimimos esta mensagem."
      ],
      "metadata": {
        "id": "mBYt1YB9TSI1"
      },
      "execution_count": null,
      "outputs": []
    },
    {
      "cell_type": "markdown",
      "source": [
        "Vamos então agora testar a noss nova função **alarm** para dois anos diferentes e com um limiar de 0.5. Como podes ver, anos mais recentes parecem ser mais problemáticos. Porque será, certo?! Podes experimentar outros anos e verificar os resultados nos graficos que produzimos anteriormente."
      ],
      "metadata": {
        "id": "EPW7PV0suebp"
      }
    },
    {
      "cell_type": "code",
      "source": [
        "alarm(1940, 0.5)\n",
        "alarm(2040, 0.5)"
      ],
      "metadata": {
        "id": "9CRV_9_0ifpV"
      },
      "execution_count": null,
      "outputs": []
    },
    {
      "cell_type": "markdown",
      "source": [
        "O seguinte código poderia ser usado para gerar alarmes nos anos em que há risco elevado de crise climática, ajudando assim os decisores políticos e a consciencializar os cidadãos. Este código implementa um **ciclo**, que invoca a função **alarm** parameteriza com cada um dos anos entre 1880 e 2024. Em cada iteração do ciclo, a variável **x** toma um dos anos no intervalo definido. Podes alterar esse intervalo e observar os resultados."
      ],
      "metadata": {
        "id": "9t2Q5G36j1bF"
      }
    },
    {
      "cell_type": "code",
      "source": [
        "for x in range(1880,2040):\n",
        "  alarm(x, 0.5)"
      ],
      "metadata": {
        "id": "lSEhFKNrjCAC"
      },
      "execution_count": null,
      "outputs": []
    },
    {
      "cell_type": "markdown",
      "source": [
        "# Conclusão"
      ],
      "metadata": {
        "id": "MAtabeHanG3m"
      }
    },
    {
      "cell_type": "markdown",
      "source": [
        "* Terminaste o teu primeiro programa de Data Science!!!\n",
        "* Parabéns!!! 🎉 🥳"
      ],
      "metadata": {
        "id": "6Bdi4fFnUiVW"
      }
    },
    {
      "cell_type": "markdown",
      "source": [
        "**Nota final:** no mundo real todo o código que experimentaste é codificado de forma sequencial e executado todo utomaticamente, sem que tenhamos de pressionar play em cada passo."
      ],
      "metadata": {
        "id": "uZ4hC6E2v1Gd"
      }
    }
  ]
}